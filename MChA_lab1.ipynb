{
 "cells": [
  {
   "cell_type": "markdown",
   "metadata": {},
   "source": [
    "## Задание\n",
    "$(x-2)^2 2^x = 1$\n",
    "- Решить уравнение методом простых итераций и методом Ньютона с точностью  $ε = 10^{-11}$\n",
    "- Определить количество итераций для каждого метода\n"
   ]
  },
  {
   "cell_type": "markdown",
   "metadata": {},
   "source": [
    "## Исходные данные"
   ]
  },
  {
   "cell_type": "code",
   "execution_count": 1,
   "metadata": {},
   "outputs": [],
   "source": [
    "import matplotlib.pyplot as plt\n",
    "import numpy as np\n",
    "import pandas as pd\n",
    "%matplotlib inline"
   ]
  },
  {
   "cell_type": "code",
   "execution_count": 2,
   "metadata": {},
   "outputs": [
    {
     "data": {
      "text/plain": [
       "[<matplotlib.lines.Line2D at 0x13f67976d48>]"
      ]
     },
     "execution_count": 2,
     "metadata": {},
     "output_type": "execute_result"
    },
    {
     "data": {
      "image/png": "[encoded data removed]",
      "text/plain": [
       "<Figure size 432x288 with 1 Axes>"
      ]
     },
     "metadata": {
      "needs_background": "light"
     },
     "output_type": "display_data"
    }
   ],
   "source": [
    "def function(x):\n",
    "    return (x - 2)**2 * 2**x - 1\n",
    "x = np.linspace(2.3, 2.5, 100)\n",
    "y = [function(i) for i in x]\n",
    "plt.xlabel(\"x\")\n",
    "plt.ylabel(\"y\") \n",
    "plt.grid()      \n",
    "plt.plot(x, y)"
   ]
  },
  {
   "cell_type": "markdown",
   "metadata": {},
   "source": [
    "Область отделенного корня: $[ 2.3,  2.5 ]$\n",
    "\n",
    "$ε = 10^{-11}$"
   ]
  },
  {
   "cell_type": "markdown",
   "metadata": {},
   "source": [
    "## Краткая теория"
   ]
  },
  {
   "cell_type": "markdown",
   "metadata": {},
   "source": [
    "### Метод Ньютона\n",
    "$f(x) = 0$\n",
    "\n",
    "$x^{*}\\in [a,b]!\\;$,    где $[a,b]$ – область отделенного корня и $f(x^{*}) = 0$\n",
    "\n",
    "$x_{k+1}=x_k-\\frac{f(x_k)}{f'(x_k)}$\n",
    "\n",
    "#### Теорема (сходимость метода Ньютона):\n",
    "Если:\n",
    "- $x^{*}\\in [a,b]!\\;\\;\\;$, $[a,b]$ – область отделенного корня\n",
    "- $f(x) \\in C^{(2)}[a,b],\\;\\; f'(x)≠0,\\;\\; f''(x)≠0\\;\\; ∀x\\in [a,b]$\n",
    "- $x_0 \\in [a,b], \\;\\; f(x_0)*f''(x_0)>0$\n",
    "\n",
    "тогда: $x_k\\rightarrow x^*\\;\\; при\\;\\; k\\rightarrow\\infty$\n",
    "\n",
    "#### Доказательство сходимости метода Ньютона: \n",
    "$[2.3,  2.5]$  является областью отделенного корня, т.к. :\n",
    "- $f(2.3) < 0 , \\;\\;f(2.5) > 0$  \n",
    "- $f'(x) > 0 ,\\;\\; при \\;\\;x\\in[2.3,  2.5]$\n",
    "\n",
    "$f'(x) = (2x-2) 2^x+(x-2)^2 2^x ln 2  > 0  при \\;\\;x\\in[2.3,  2.5]$\n",
    "\n",
    "$f''(x) = 2^{x+1}+(2x-2) 2^x ln 2+(x-2)^2 2^x ln^2 2 > 0  при \\;\\;x\\in[2.3,  2.5]$\n",
    "\n",
    "$x_0 = 2.5, f(2.5)*f''(2.5)>0$\n",
    "#### Условие окончания итераций: $ |{x_k - x_{k - 1}}| < ε $"
   ]
  },
  {
   "cell_type": "code",
   "execution_count": 3,
   "metadata": {},
   "outputs": [
    {
     "name": "stdout",
     "output_type": "stream",
     "text": [
      "f(2.3) = -0.5567880111958308 < 0\n",
      "f(2.5) = 0.41421356237309515 > 0\n",
      "x0 =  2.5\n",
      "Количество итераций:   55\n",
      "Корень:   2.4306726661719087\n"
     ]
    },
    {
     "data": {
      "text/html": [
       "<div>\n",
       "<style scoped>\n",
       "    .dataframe tbody tr th:only-of-type {\n",
       "        vertical-align: middle;\n",
       "    }\n",
       "\n",
       "    .dataframe tbody tr th {\n",
       "        vertical-align: top;\n",
       "    }\n",
       "\n",
       "    .dataframe thead th {\n",
       "        text-align: right;\n",
       "    }\n",
       "</style>\n",
       "<table border=\"1\" class=\"dataframe\">\n",
       "  <thead>\n",
       "    <tr style=\"text-align: right;\">\n",
       "      <th></th>\n",
       "      <th>0</th>\n",
       "    </tr>\n",
       "  </thead>\n",
       "  <tbody>\n",
       "    <tr>\n",
       "      <th>$x_{2} = $</th>\n",
       "      <td>2.4615529187772753</td>\n",
       "    </tr>\n",
       "    <tr>\n",
       "      <th>$x_{3} = $</th>\n",
       "      <td>2.4513013915382964</td>\n",
       "    </tr>\n",
       "    <tr>\n",
       "      <th>$x_{4} = $</th>\n",
       "      <td>2.444458827888345</td>\n",
       "    </tr>\n",
       "    <tr>\n",
       "      <th>$x_{5} = $</th>\n",
       "      <td>2.4398886426506605</td>\n",
       "    </tr>\n",
       "    <tr>\n",
       "      <th>$x_{10} = $</th>\n",
       "      <td>2.4319055171129538</td>\n",
       "    </tr>\n",
       "    <tr>\n",
       "      <th>$x_{15} = $</th>\n",
       "      <td>2.4308377496051143</td>\n",
       "    </tr>\n",
       "    <tr>\n",
       "      <th>$x_{20} = $</th>\n",
       "      <td>2.4306947744018603</td>\n",
       "    </tr>\n",
       "    <tr>\n",
       "      <th>$x_{25} = $</th>\n",
       "      <td>2.430675626980525</td>\n",
       "    </tr>\n",
       "    <tr>\n",
       "      <th>$x_{30} = $</th>\n",
       "      <td>2.4306730626815063</td>\n",
       "    </tr>\n",
       "    <tr>\n",
       "      <th>$x_{35} = $</th>\n",
       "      <td>2.430672719259424</td>\n",
       "    </tr>\n",
       "    <tr>\n",
       "      <th>$x_{40} = $</th>\n",
       "      <td>2.4306726732668276</td>\n",
       "    </tr>\n",
       "    <tr>\n",
       "      <th>$x_{45} = $</th>\n",
       "      <td>2.430672667107296</td>\n",
       "    </tr>\n",
       "    <tr>\n",
       "      <th>$x_{50} = $</th>\n",
       "      <td>2.4306726662823848</td>\n",
       "    </tr>\n",
       "    <tr>\n",
       "      <th>$x_{55} \\thickapprox $</th>\n",
       "      <td>2.430672666180364</td>\n",
       "    </tr>\n",
       "  </tbody>\n",
       "</table>\n",
       "</div>"
      ],
      "text/plain": [
       "                                         0\n",
       "$x_{2} = $              2.4615529187772753\n",
       "$x_{3} = $              2.4513013915382964\n",
       "$x_{4} = $               2.444458827888345\n",
       "$x_{5} = $              2.4398886426506605\n",
       "$x_{10} = $             2.4319055171129538\n",
       "$x_{15} = $             2.4308377496051143\n",
       "$x_{20} = $             2.4306947744018603\n",
       "$x_{25} = $              2.430675626980525\n",
       "$x_{30} = $             2.4306730626815063\n",
       "$x_{35} = $              2.430672719259424\n",
       "$x_{40} = $             2.4306726732668276\n",
       "$x_{45} = $              2.430672667107296\n",
       "$x_{50} = $             2.4306726662823848\n",
       "$x_{55} \\thickapprox $   2.430672666180364"
      ]
     },
     "execution_count": 3,
     "metadata": {},
     "output_type": "execute_result"
    }
   ],
   "source": [
    "def derivative(x):\n",
    "    return ((2 * x - 2) * 2**x) + ((x - 2)**2 * 2**x * np.log(2))\n",
    "\n",
    "def double_derivative(x):\n",
    "    return (((2 * x - 2) * 2**x * np.log(2)) + 2**(x + 1) + \n",
    "            ((2 * x - 2) * 2**x * np.log(2)) + \n",
    "            ((x - 2)**2 * 2**x * np.log(2)**2))\n",
    "\n",
    "a,b = 2.3, 2.5\n",
    "e = 10**(-11)\n",
    "\n",
    "print('f({}) = {} < 0'.format(a, function(a)))\n",
    "print('f({}) = {} > 0'.format(b, function(b)))\n",
    "\n",
    "x0 = b\n",
    "print('x0 = ', x0)\n",
    "\n",
    "values = []\n",
    "keys = []\n",
    "k = 2\n",
    "x1 = x0 - function(x0) / derivative(x0)\n",
    "x2 = x1 - function(x1) / derivative(x1)\n",
    "while np.abs(x2 - x1) > e :\n",
    "    x1 = x2\n",
    "    x2 = x2 - function(x2) / derivative(x2)\n",
    "    if k < 5 or k % 5 == 0 :\n",
    "        keys.append('$x_{{{}}} = $'.format(k))\n",
    "        values.append(str(x1))\n",
    "    k += 1\n",
    "keys.append('$x_{{{}}} \\thickapprox $'.format(k))\n",
    "values.append(str(x1))\n",
    "\n",
    "print('Количество итераций:   {}\\nКорень:   {}'.format(k, x2))\n",
    "df = pd.DataFrame(index=keys, data=values)\n",
    "df"
   ]
  },
  {
   "cell_type": "markdown",
   "metadata": {},
   "source": [
    "### Метод простых итераций:\n",
    "$f(x) = 0$\n",
    "\n",
    "$x=φ(x)$\n",
    "\n",
    "$φ(x)=x+cf(x),\\;\\;    f'(x)<1,\\;\\;   с - константа$\n",
    "\n",
    "$x_0$ – начальное итерационное приближение\n",
    "\n",
    "$x_k=φ(x_{k-1})$\n",
    "#### Теорема (сходимость метода простых итераций)\n",
    "Пусть $x_0$ – начальное итерационное приближение, которое выбирается так, что:\n",
    "- $φ(x) \\in C^{(1)}[a,b], \\;\\;S_0=[a,b]=\\{x | |x-x_0|≤δ\\} $\n",
    "- $x^*=φ(x^*)∈[a,b]!$\n",
    "- $q=|φ'(x)| <1$\n",
    "- $x_1-x_0=φ(x_0)-x_0≤δ(1-q)$\n",
    "\n",
    "тогда последовательность сходится, $x_k= φ(x_k)∈[a,b] \\;\\;$ и $\\;\\; x_k-x^*≤δq^k$\n",
    "\n",
    "**Следствие**: $k(ε)=\\left[\\begin{array}{ccc}\\frac{ln⁡(ε/δ)}{ln⁡(q)}\\end{array}\\right] +1$\n",
    "\n",
    "#### Доказательство сходимости МПИ\n",
    "$φ(x)= x - 0.1 f(x) = x + -0.1((x-2)^2 2^x - 1)$\n",
    "\n",
    "$φ'(x)= 1 - 0.1 f'(x) = 1 - 0.1 ((2x-2) 2^x+(x-2)^2 2^x ln 2)$\n",
    "- $φ(x) \\in C^{(1)}[2.3, 2.5], \\;\\;S_0=[2.3, 2.5]=\\{x | |x-2.4|≤δ\\},\\;\\;δ=0.1 $\n",
    "- $x^*=φ(x^*)∈[2.3, 2.5]!\\;\\;$(доказано ранее)\n",
    "- $q=max|φ'(x)| <1, \\;\\;q=|φ'(2.5)|\\thickapprox 0.7950820891945689$\n",
    "- $|x_1-x_0|=|φ(x_0)-x_0|=|φ(2.4)-2.4|\\thickapprox 0.015551493710534992 ≤ δ(1-q)\\thickapprox 0.020491791080543127$\n",
    "\n",
    "Следовательно МПИ сходится\n",
    "\n",
    "$q > 0.5,\\;$ поэтому условие окончания итераций:$\\;\\;q /(1-q)|x_{k}-x_{k-1}|<ε$"
   ]
  },
  {
   "cell_type": "code",
   "execution_count": 4,
   "metadata": {},
   "outputs": [],
   "source": [
    "c = -0.1\n",
    "def fi_function(x):\n",
    "    return x + c * function(x)\n",
    "def fi_derivative(x):\n",
    "    return 1 + c * derivative(x)"
   ]
  },
  {
   "cell_type": "code",
   "execution_count": 5,
   "metadata": {},
   "outputs": [
    {
     "data": {
      "text/plain": [
       "[<matplotlib.lines.Line2D at 0x24898406708>]"
      ]
     },
     "execution_count": 5,
     "metadata": {},
     "output_type": "execute_result"
    },
    {
     "data": {
      "image/png": "[encoded data removed]",
      "text/plain": [
       "<Figure size 432x288 with 1 Axes>"
      ]
     },
     "metadata": {
      "needs_background": "light"
     },
     "output_type": "display_data"
    }
   ],
   "source": [
    "x_plt = np.linspace(3.5, 3,9, 100)\n",
    "y_plt = [fi_function(i) for i in x_plt]\n",
    "plt.xlabel(\"x\")\n",
    "plt.ylabel(\"y\") \n",
    "plt.grid()      \n",
    "plt.plot(x_plt, y_plt)"
   ]
  },
  {
   "cell_type": "code",
   "execution_count": 6,
   "metadata": {},
   "outputs": [
    {
     "ename": "NameError",
     "evalue": "name 'fi_funcion' is not defined",
     "output_type": "error",
     "traceback": [
      "\u001b[1;31m---------------------------------------------------------------------------\u001b[0m",
      "\u001b[1;31mNameError\u001b[0m                                 Traceback (most recent call last)",
      "\u001b[1;32m<ipython-input-6-f5dc2b2a64cb>\u001b[0m in \u001b[0;36m<module>\u001b[1;34m\u001b[0m\n\u001b[0;32m      3\u001b[0m \u001b[0mdelta\u001b[0m \u001b[1;33m=\u001b[0m \u001b[1;33m(\u001b[0m\u001b[0mb\u001b[0m \u001b[1;33m-\u001b[0m \u001b[0ma\u001b[0m\u001b[1;33m)\u001b[0m\u001b[1;33m/\u001b[0m\u001b[1;36m2\u001b[0m\u001b[1;33m\u001b[0m\u001b[1;33m\u001b[0m\u001b[0m\n\u001b[0;32m      4\u001b[0m \u001b[0mx1\u001b[0m \u001b[1;33m=\u001b[0m \u001b[1;33m(\u001b[0m\u001b[0ma\u001b[0m \u001b[1;33m+\u001b[0m \u001b[0mb\u001b[0m\u001b[1;33m)\u001b[0m \u001b[1;33m/\u001b[0m \u001b[1;36m2\u001b[0m\u001b[1;33m\u001b[0m\u001b[1;33m\u001b[0m\u001b[0m\n\u001b[1;32m----> 5\u001b[1;33m \u001b[0mx2\u001b[0m \u001b[1;33m=\u001b[0m \u001b[0mfi_funcion\u001b[0m\u001b[1;33m(\u001b[0m\u001b[0mx1\u001b[0m\u001b[1;33m)\u001b[0m\u001b[1;33m\u001b[0m\u001b[1;33m\u001b[0m\u001b[0m\n\u001b[0m\u001b[0;32m      6\u001b[0m \u001b[0mq\u001b[0m \u001b[1;33m=\u001b[0m \u001b[0mnp\u001b[0m\u001b[1;33m.\u001b[0m\u001b[0mabs\u001b[0m\u001b[1;33m(\u001b[0m\u001b[0mfi_derivative\u001b[0m\u001b[1;33m(\u001b[0m\u001b[0mb\u001b[0m\u001b[1;33m)\u001b[0m\u001b[1;33m)\u001b[0m\u001b[1;33m\u001b[0m\u001b[1;33m\u001b[0m\u001b[0m\n\u001b[0;32m      7\u001b[0m \u001b[0mk\u001b[0m \u001b[1;33m=\u001b[0m \u001b[1;36m1\u001b[0m\u001b[1;33m\u001b[0m\u001b[1;33m\u001b[0m\u001b[0m\n",
      "\u001b[1;31mNameError\u001b[0m: name 'fi_funcion' is not defined"
     ]
    }
   ],
   "source": [
    "values = []\n",
    "keys = []\n",
    "delta = (b - a)/2\n",
    "x1 = (a + b) / 2\n",
    "x2 = fi_funcion(x1)\n",
    "q = np.abs(fi_derivative(b))\n",
    "k = 1\n",
    "keys.append('$x_{{0}} = $')\n",
    "values.append(str(x1))"
   ]
  },
  {
   "cell_type": "code",
   "execution_count": 7,
   "metadata": {},
   "outputs": [
    {
     "ename": "NameError",
     "evalue": "name 'q' is not defined",
     "output_type": "error",
     "traceback": [
      "\u001b[1;31m---------------------------------------------------------------------------\u001b[0m",
      "\u001b[1;31mNameError\u001b[0m                                 Traceback (most recent call last)",
      "\u001b[1;32m<ipython-input-7-55cce280c453>\u001b[0m in \u001b[0;36m<module>\u001b[1;34m\u001b[0m\n\u001b[1;32m----> 1\u001b[1;33m \u001b[1;32mwhile\u001b[0m \u001b[0mnp\u001b[0m\u001b[1;33m.\u001b[0m\u001b[0mabs\u001b[0m\u001b[1;33m(\u001b[0m\u001b[0mx2\u001b[0m \u001b[1;33m-\u001b[0m \u001b[0mx1\u001b[0m\u001b[1;33m)\u001b[0m \u001b[1;33m*\u001b[0m \u001b[0mq\u001b[0m \u001b[1;33m/\u001b[0m \u001b[1;33m(\u001b[0m\u001b[1;36m1\u001b[0m \u001b[1;33m-\u001b[0m \u001b[0mq\u001b[0m\u001b[1;33m)\u001b[0m \u001b[1;33m>\u001b[0m \u001b[0me\u001b[0m \u001b[1;33m:\u001b[0m\u001b[1;33m\u001b[0m\u001b[1;33m\u001b[0m\u001b[0m\n\u001b[0m\u001b[0;32m      2\u001b[0m     \u001b[0mx1\u001b[0m \u001b[1;33m=\u001b[0m \u001b[0mx2\u001b[0m\u001b[1;33m\u001b[0m\u001b[1;33m\u001b[0m\u001b[0m\n\u001b[0;32m      3\u001b[0m     \u001b[0mx2\u001b[0m \u001b[1;33m=\u001b[0m \u001b[0mfi_funcion\u001b[0m\u001b[1;33m(\u001b[0m\u001b[0mx1\u001b[0m\u001b[1;33m)\u001b[0m\u001b[1;33m\u001b[0m\u001b[1;33m\u001b[0m\u001b[0m\n\u001b[0;32m      4\u001b[0m     \u001b[1;32mif\u001b[0m \u001b[0mk\u001b[0m \u001b[1;33m%\u001b[0m \u001b[1;36m5\u001b[0m \u001b[1;33m==\u001b[0m \u001b[1;36m0\u001b[0m \u001b[1;32mor\u001b[0m \u001b[0mk\u001b[0m \u001b[1;33m<\u001b[0m \u001b[1;36m4\u001b[0m \u001b[1;33m:\u001b[0m\u001b[1;33m\u001b[0m\u001b[1;33m\u001b[0m\u001b[0m\n\u001b[0;32m      5\u001b[0m         \u001b[0mkeys\u001b[0m\u001b[1;33m.\u001b[0m\u001b[0mappend\u001b[0m\u001b[1;33m(\u001b[0m\u001b[1;34m'$x_{{{}}} = $'\u001b[0m\u001b[1;33m.\u001b[0m\u001b[0mformat\u001b[0m\u001b[1;33m(\u001b[0m\u001b[0mk\u001b[0m\u001b[1;33m)\u001b[0m\u001b[1;33m)\u001b[0m\u001b[1;33m\u001b[0m\u001b[1;33m\u001b[0m\u001b[0m\n",
      "\u001b[1;31mNameError\u001b[0m: name 'q' is not defined"
     ]
    }
   ],
   "source": [
    "while np.abs(x2 - x1) * q / (1 - q) > e :\n",
    "    x1 = x2\n",
    "    x2 = fi_funcion(x1)\n",
    "    if k % 5 == 0 or k < 4 :\n",
    "        keys.append('$x_{{{}}} = $'.format(k))\n",
    "        values.append(str(x1))\n",
    "    k += 1\n",
    "keys.append('$x_{{{}}} \\thickapprox $'.format(k))\n",
    "values.append(str(x2))"
   ]
  },
  {
   "cell_type": "code",
   "execution_count": 8,
   "metadata": {},
   "outputs": [
    {
     "name": "stdout",
     "output_type": "stream",
     "text": [
      "delta = 0.10000000000000009\n"
     ]
    },
    {
     "ename": "NameError",
     "evalue": "name 'q' is not defined",
     "output_type": "error",
     "traceback": [
      "\u001b[1;31m---------------------------------------------------------------------------\u001b[0m",
      "\u001b[1;31mNameError\u001b[0m                                 Traceback (most recent call last)",
      "\u001b[1;32m<ipython-input-8-a30af3f90e9b>\u001b[0m in \u001b[0;36m<module>\u001b[1;34m\u001b[0m\n\u001b[0;32m      1\u001b[0m \u001b[0mdf\u001b[0m \u001b[1;33m=\u001b[0m \u001b[0mpd\u001b[0m\u001b[1;33m.\u001b[0m\u001b[0mDataFrame\u001b[0m\u001b[1;33m(\u001b[0m\u001b[0mindex\u001b[0m\u001b[1;33m=\u001b[0m\u001b[0mkeys\u001b[0m\u001b[1;33m,\u001b[0m \u001b[0mdata\u001b[0m\u001b[1;33m=\u001b[0m\u001b[0mvalues\u001b[0m\u001b[1;33m)\u001b[0m\u001b[1;33m\u001b[0m\u001b[1;33m\u001b[0m\u001b[0m\n\u001b[0;32m      2\u001b[0m \u001b[0mprint\u001b[0m\u001b[1;33m(\u001b[0m\u001b[1;34m'delta ='\u001b[0m\u001b[1;33m,\u001b[0m \u001b[0mdelta\u001b[0m\u001b[1;33m)\u001b[0m\u001b[1;33m\u001b[0m\u001b[1;33m\u001b[0m\u001b[0m\n\u001b[1;32m----> 3\u001b[1;33m \u001b[0mprint\u001b[0m\u001b[1;33m(\u001b[0m\u001b[1;34m'q ='\u001b[0m\u001b[1;33m,\u001b[0m \u001b[0mq\u001b[0m\u001b[1;33m)\u001b[0m\u001b[1;33m\u001b[0m\u001b[1;33m\u001b[0m\u001b[0m\n\u001b[0m\u001b[0;32m      4\u001b[0m \u001b[0mprint\u001b[0m\u001b[1;33m(\u001b[0m\u001b[1;34m'Количество итераций:   {}\\nКорень:   {}'\u001b[0m\u001b[1;33m.\u001b[0m\u001b[0mformat\u001b[0m\u001b[1;33m(\u001b[0m\u001b[0mk\u001b[0m\u001b[1;33m,\u001b[0m \u001b[0mx2\u001b[0m\u001b[1;33m)\u001b[0m\u001b[1;33m)\u001b[0m\u001b[1;33m\u001b[0m\u001b[1;33m\u001b[0m\u001b[0m\n\u001b[0;32m      5\u001b[0m \u001b[0mprint\u001b[0m\u001b[1;33m(\u001b[0m\u001b[1;34m'Априорная оценка:'\u001b[0m\u001b[1;33m,\u001b[0m \u001b[0mint\u001b[0m\u001b[1;33m(\u001b[0m\u001b[0mnp\u001b[0m\u001b[1;33m.\u001b[0m\u001b[0mlog\u001b[0m\u001b[1;33m(\u001b[0m\u001b[0me\u001b[0m\u001b[1;33m/\u001b[0m\u001b[0mdelta\u001b[0m\u001b[1;33m)\u001b[0m\u001b[1;33m/\u001b[0m\u001b[0mnp\u001b[0m\u001b[1;33m.\u001b[0m\u001b[0mlog\u001b[0m\u001b[1;33m(\u001b[0m\u001b[0mq\u001b[0m\u001b[1;33m)\u001b[0m\u001b[1;33m)\u001b[0m\u001b[1;33m+\u001b[0m\u001b[1;36m1\u001b[0m\u001b[1;33m)\u001b[0m\u001b[1;33m\u001b[0m\u001b[1;33m\u001b[0m\u001b[0m\n",
      "\u001b[1;31mNameError\u001b[0m: name 'q' is not defined"
     ]
    }
   ],
   "source": [
    "df = pd.DataFrame(index=keys, data=values)\n",
    "print('delta =', delta)\n",
    "print('q =', q)\n",
    "print('Количество итераций:   {}\\nКорень:   {}'.format(k, x2))\n",
    "print('Априорная оценка:', int(np.log(e/delta)/np.log(q))+1)\n",
    "df"
   ]
  },
  {
   "cell_type": "code",
   "execution_count": null,
   "metadata": {},
   "outputs": [],
   "source": []
  },
  {
   "cell_type": "code",
   "execution_count": null,
   "metadata": {},
   "outputs": [],
   "source": []
  }
 ],
 "metadata": {
  "kernelspec": {
   "display_name": "Python 3",
   "language": "python",
   "name": "python3"
  },
  "language_info": {
   "codemirror_mode": {
    "name": "ipython",
    "version": 3
   },
   "file_extension": ".py",
   "mimetype": "text/x-python",
   "name": "python",
   "nbconvert_exporter": "python",
   "pygments_lexer": "ipython3",
   "version": "3.7.4"
  }
 },
 "nbformat": 4,
 "nbformat_minor": 4
}
