{
 "cells": [
  {
   "cell_type": "markdown",
   "metadata": {},
   "source": [
    "## Исходные данные"
   ]
  },
  {
   "cell_type": "code",
   "execution_count": 11,
   "metadata": {},
   "outputs": [],
   "source": [
    "import matplotlib.pyplot as plt\n",
    "import numpy as np"
   ]
  },
  {
   "cell_type": "code",
   "execution_count": 13,
   "metadata": {},
   "outputs": [
    {
     "data": {
      "text/plain": [
       "[<matplotlib.lines.Line2D at 0x19452d34688>]"
      ]
     },
     "execution_count": 13,
     "metadata": {},
     "output_type": "execute_result"
    },
    {
     "data": {
      "image/png": "[encoded data removed]",
      "text/plain": [
       "<Figure size 432x288 with 1 Axes>"
      ]
     },
     "metadata": {
      "needs_background": "light"
     },
     "output_type": "display_data"
    }
   ],
   "source": [
    "def function(x):\n",
    "    return np.exp(-x) - x + 2\n",
    "x = np.linspace(1.8, 2.4, 100)\n",
    "y = [function(i) for i in x]\n",
    "plt.xlabel(\"x\") # ось абсцисс\n",
    "plt.ylabel(\"y\") # ось ординат\n",
    "plt.grid()      # включение отображение сетки\n",
    "plt.plot(x, y)"
   ]
  },
  {
   "cell_type": "markdown",
   "metadata": {},
   "source": [
    "Область отделенного корня: $[1.8, 2.4]$\n",
    "\n",
    "$ε = 10^{-8}$"
   ]
  },
  {
   "cell_type": "markdown",
   "metadata": {},
   "source": [
    "## Задание\n",
    "- Решить исходное уравнение методом дихотомии, простых итераций и Ньютона с заданной точностью\n",
    "- Определить количество итераций для каждого метода\n"
   ]
  },
  {
   "cell_type": "markdown",
   "metadata": {},
   "source": [
    "## Краткая теория"
   ]
  },
  {
   "cell_type": "markdown",
   "metadata": {},
   "source": [
    "### Метод дихотомии:\n",
    "$f(x) = 0$\n",
    "\n",
    "$x^{*}\\in [a,b]!\\;$,    где $[a,b]$ – область отделенного корня и $f(x^{*}) = 0$\n",
    "\n",
    "$x_0=a,\\; \\; x_1=b,\\; \\; x_2=\\frac{x_0+x_1}{2}$\n",
    "\n",
    "$x_k=\\frac{x_{k-1}+x_{k-2}}{2},\\; \\; f(x_{k-1})*f(x_{k-2})<0$\n",
    "\n",
    "#### Условие окончания итераций: $ |{x_k - x_{k - 1}}| < ε $"
   ]
  },
  {
   "cell_type": "code",
   "execution_count": 14,
   "metadata": {},
   "outputs": [],
   "source": [
    "a = 1.8\n",
    "b = 2.4\n",
    "e = 10**-8"
   ]
  },
  {
   "cell_type": "code",
   "execution_count": 15,
   "metadata": {},
   "outputs": [
    {
     "name": "stdout",
     "output_type": "stream",
     "text": [
      "x5  =  2.175\n",
      "x10  =  2.1210937500000004\n",
      "x15  =  2.1199951171875\n",
      "x20  =  2.120029449462891\n",
      "x25  =  2.1200282335281377\n",
      "Количество итераций:   29\n",
      "Корень:   2.1200282424688344\n"
     ]
    }
   ],
   "source": [
    "x0 = a\n",
    "x1 = b\n",
    "k = 3\n",
    "while np.abs(x1 - x0) > e :\n",
    "    x = (x0 + x1) / 2\n",
    "    if function(x1) * function(x) < 0 :\n",
    "        x0 = x\n",
    "    else : x1 = x\n",
    "    if k % 5 == 0 :\n",
    "        print('x{}  =  {}'.format(k, x))\n",
    "    k += 1 \n",
    "print('Количество итераций:   {}\\nКорень:   {}'.format(k, x))"
   ]
  },
  {
   "cell_type": "markdown",
   "metadata": {},
   "source": [
    "### Метод Ньютона\n",
    "$f(x) = 0$\n",
    "\n",
    "$x^{*}\\in [a,b]!\\;$,    где $[a,b]$ – область отделенного корня и $f(x^{*}) = 0$\n",
    "\n",
    "$x_{k+1}=x_k-\\frac{f(x_k)}{f'(x_k)}$\n",
    "\n",
    "#### Теорема (сходимость метода Ньютона):\n",
    "Если:\n",
    "- $x^{*}\\in [a,b]!\\;$где $[a,b]$ – область отделенного корня и $f(x^{*}) = 0$\n",
    "- $f(x) \\in C^{(2)}[a,b],\\;\\; f'(x)≠0,\\;\\; f''(x)≠0\\;\\; ∀x\\in [a,b]$\n",
    "- $x_0 \\in [a,b], \\;\\; f(x_0)*f''(x_0)>0$\n",
    "\n",
    "тогда: $x_k= x^*$\n",
    "\n",
    "#### Условие окончания итераций: $ |{x_k - x_{k - 1}}| < ε $"
   ]
  },
  {
   "cell_type": "code",
   "execution_count": 16,
   "metadata": {},
   "outputs": [
    {
     "name": "stdout",
     "output_type": "stream",
     "text": [
      "x0 =  1.8\n",
      "x2 = 2.1200259335623035\n",
      "x3 = 2.1200282389873566\n",
      "Количество итераций:   4\n",
      "Корень:   2.1200282389876413\n"
     ]
    }
   ],
   "source": [
    "def derivative(x):\n",
    "    return -np.exp(-x)-1\n",
    "\n",
    "def double_derivative(x):\n",
    "    return np.exp(-x)\n",
    "\n",
    "x0 = a\n",
    "while double_derivative(x0) * function(x0) < 0 :\n",
    "    x0 += 0.05\n",
    "print('x0 = ', x0)\n",
    "\n",
    "k = 2\n",
    "x1 = x0 - function(x0) / derivative(x0)\n",
    "x2 = x1 - function(x1) / derivative(x1)\n",
    "while np.abs(x2 - x1) > e :\n",
    "    x1 = x2\n",
    "    x2 = x2 - function(x2) / derivative(x2)\n",
    "    print('x{} = {}'.format(k, x1))\n",
    "    k += 1\n",
    "print('Количество итераций:   {}\\nКорень:   {}'.format(k, x2))"
   ]
  },
  {
   "cell_type": "markdown",
   "metadata": {},
   "source": [
    "### Метод простых итераций:\n",
    "$f(x) = 0$\n",
    "\n",
    "$x=φ(x)$\n",
    "\n",
    "$φ(x)=x+cf(x),\\;\\;    f'(x)<1,\\;\\;   с - константа$\n",
    "\n",
    "$x_0$ – начальное итерационное приближение\n",
    "\n",
    "$x_k=φ(x_{k-1})$\n",
    "#### Теорема (сходимость метода простых итераций)\n",
    "Пусть $x_0$ – начальное итерационное приближение, которое выбирается так, что:\n",
    "- $φ(x) \\in C^{(1)}[a,b], \\;\\;S_0=[a,b]=\\{x | |x-x_0|≤δ\\} $\n",
    "- $x^*=φ(x^*)∈[a,b]!$\n",
    "- $q=|φ'(x)| <1$\n",
    "- $x_1-x_0=φ(x_0)-x_0≤δ(1-q)$\n",
    "\n",
    "тогда:\n",
    "- Последовательность сходится, $x_k= φ(x_k)∈[a,b]$\n",
    "- $x_k-x^*≤δq^k$\n",
    "\n",
    "**Следствие**: $k(ε)=\\left[\\begin{array}{ccc}\\frac{ln⁡(ε/δ)}{ln⁡(q)}\\end{array}\\right] +1$\n"
   ]
  },
  {
   "cell_type": "code",
   "execution_count": 17,
   "metadata": {},
   "outputs": [
    {
     "name": "stdout",
     "output_type": "stream",
     "text": [
      "x5 = 2.1197972259123037\n",
      "x10 = 2.120027362234608\n",
      "delta = 0.29999999999999993\n",
      "q = 0.3455692280263526\n",
      "Количество итераций:   15\n",
      "Корень:   2.1200282356600173\n",
      "Априорная оценка: 17\n"
     ]
    }
   ],
   "source": [
    "c = 0.6\n",
    "def fi_funcion(x):\n",
    "    return x + c * function(x)\n",
    "def fi_derivative(x):\n",
    "    return 1 + c * derivative(x)\n",
    "def fi_double_derivative(x):\n",
    "    return c * double_derivative(x)\n",
    "\n",
    "q = fi_derivative(b)\n",
    "x1 = (a + b) / 2\n",
    "x2 = fi_funcion(x1)\n",
    "k = 2\n",
    "while (q / (1 - q))*np.abs(x2 - x1) > e :\n",
    "    x1 = x2\n",
    "    x2 = fi_funcion(x1)\n",
    "    if k % 5 == 0 :\n",
    "        print('x{} = {}'.format(k, x1))\n",
    "    k += 1\n",
    "print('delta =', (b - a)/2)\n",
    "print('q =', q)\n",
    "print('Количество итераций:   {}\\nКорень:   {}'.format(k, x2))\n",
    "print('Априорная оценка:', int(np.log(e*2/(b - a))/np.log(q))+1)"
   ]
  }
 ],
 "metadata": {
  "kernelspec": {
   "display_name": "Python 3",
   "language": "python",
   "name": "python3"
  },
  "language_info": {
   "codemirror_mode": {
    "name": "ipython",
    "version": 3
   },
   "file_extension": ".py",
   "mimetype": "text/x-python",
   "name": "python",
   "nbconvert_exporter": "python",
   "pygments_lexer": "ipython3",
   "version": "3.7.4"
  }
 },
 "nbformat": 4,
 "nbformat_minor": 4
}
