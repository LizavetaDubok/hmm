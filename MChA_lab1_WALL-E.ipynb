{
 "cells": [
  {
   "cell_type": "markdown",
   "metadata": {},
   "source": [
    "## Задание\n",
    "$(x-2)^2 2^x = 1$\n",
    "- Решить уравнение методом простых итераций и методом Ньютона с точностью  $ε = 10^{-11}$\n",
    "- Определить количество итераций для каждого метода\n"
   ]
  },
  {
   "cell_type": "markdown",
   "metadata": {},
   "source": [
    "## Исходные данные"
   ]
  },
  {
   "cell_type": "code",
   "execution_count": 2,
   "metadata": {},
   "outputs": [],
   "source": [
    "import matplotlib.pyplot as plt\n",
    "import numpy as np\n",
    "import pandas as pd\n",
    "%matplotlib inline"
   ]
  },
  {
   "cell_type": "code",
   "execution_count": 36,
   "metadata": {},
   "outputs": [
    {
     "data": {
      "text/plain": [
       "[<matplotlib.lines.Line2D at 0x29cbf04f7c8>]"
      ]
     },
     "execution_count": 36,
     "metadata": {},
     "output_type": "execute_result"
    },
    {
     "data": {
      "image/png": "[encoded data removed]",
      "text/plain": [
       "<Figure size 432x288 with 1 Axes>"
      ]
     },
     "metadata": {
      "needs_background": "light"
     },
     "output_type": "display_data"
    }
   ],
   "source": [
    "def function(x):\n",
    "    return  3**x + 2 + x\n",
    "x = np.linspace(-2.6, -1.8, 100)\n",
    "y = [function(i) for i in x]\n",
    "plt.xlabel(\"x\")\n",
    "plt.ylabel(\"y\") \n",
    "plt.grid()      \n",
    "plt.plot(x, y)"
   ]
  },
  {
   "cell_type": "markdown",
   "metadata": {},
   "source": [
    "Область отделенного корня: $[ 2.3,  2.5 ]$\n",
    "\n",
    "$ε = 10^{-11}$"
   ]
  },
  {
   "cell_type": "markdown",
   "metadata": {},
   "source": [
    "## Краткая теория"
   ]
  },
  {
   "cell_type": "markdown",
   "metadata": {},
   "source": [
    "### Метод Ньютона\n",
    "$f(x) = 0$\n",
    "\n",
    "$x^{*}\\in [a,b]!\\;$,    где $[a,b]$ – область отделенного корня и $f(x^{*}) = 0$\n",
    "\n",
    "$x_{k+1}=x_k-\\frac{f(x_k)}{f'(x_k)}$\n",
    "\n",
    "#### Теорема (сходимость метода Ньютона):\n",
    "Если:\n",
    "- $x^{*}\\in [a,b]!\\;\\;\\;$, $[a,b]$ – область отделенного корня\n",
    "- $f(x) \\in C^{(2)}[a,b],\\;\\; f'(x)≠0,\\;\\; f''(x)≠0\\;\\; ∀x\\in [a,b]$\n",
    "- $x_0 \\in [a,b], \\;\\; f(x_0)*f''(x_0)>0$\n",
    "\n",
    "тогда: $x_k\\rightarrow x^*\\;\\; при\\;\\; k\\rightarrow\\infty$\n",
    "\n",
    "#### Доказательство сходимости метода Ньютона: \n",
    "$[2.3,  2.5]$  является областью отделенного корня, т.к. :\n",
    "- $f(2.3) < 0 , \\;\\;f(2.5) > 0$  \n",
    "- $f'(x) > 0 ,\\;\\; при \\;\\;x\\in[2.3,  2.5]$\n",
    "\n",
    "$f'(x) = (2x-2) 2^x+(x-2)^2 2^x ln 2  > 0  при \\;\\;x\\in[2.3,  2.5]$\n",
    "\n",
    "$f''(x) = 2^{x+1}+(2x-2) 2^x ln 2+(x-2)^2 2^x ln^2 2 > 0  при \\;\\;x\\in[2.3,  2.5]$\n",
    "\n",
    "$x_0 = 2.5, f(2.5)*f''(2.5)>0$\n",
    "#### Условие окончания итераций: $ |{x_k - x_{k - 1}}| < ε $"
   ]
  },
  {
   "cell_type": "code",
   "execution_count": 38,
   "metadata": {},
   "outputs": [
    {
     "name": "stdout",
     "output_type": "stream",
     "text": [
      "f(-2.6) = -0.5425242380031348 < 0\n",
      "f(-1.8) = 0.3384145488461685 > 0\n",
      "x0 =  -1.8\n",
      "Количество итераций:   4\n",
      "Корень:   -2.0995952197836734\n"
     ]
    },
    {
     "data": {
      "text/html": [
       "<div>\n",
       "<style scoped>\n",
       "    .dataframe tbody tr th:only-of-type {\n",
       "        vertical-align: middle;\n",
       "    }\n",
       "\n",
       "    .dataframe tbody tr th {\n",
       "        vertical-align: top;\n",
       "    }\n",
       "\n",
       "    .dataframe thead th {\n",
       "        text-align: right;\n",
       "    }\n",
       "</style>\n",
       "<table border=\"1\" class=\"dataframe\">\n",
       "  <thead>\n",
       "    <tr style=\"text-align: right;\">\n",
       "      <th></th>\n",
       "      <th>0</th>\n",
       "    </tr>\n",
       "  </thead>\n",
       "  <tbody>\n",
       "    <tr>\n",
       "      <th>$x_{2} = $</th>\n",
       "      <td>-2.099593359690723</td>\n",
       "    </tr>\n",
       "    <tr>\n",
       "      <th>$x_{3} = $</th>\n",
       "      <td>-2.0995952197834864</td>\n",
       "    </tr>\n",
       "    <tr>\n",
       "      <th>$x_{4} \\thickapprox $</th>\n",
       "      <td>-2.0995952197834864</td>\n",
       "    </tr>\n",
       "  </tbody>\n",
       "</table>\n",
       "</div>"
      ],
      "text/plain": [
       "                                         0\n",
       "$x_{2} = $              -2.099593359690723\n",
       "$x_{3} = $             -2.0995952197834864\n",
       "$x_{4} \\thickapprox $  -2.0995952197834864"
      ]
     },
     "execution_count": 38,
     "metadata": {},
     "output_type": "execute_result"
    }
   ],
   "source": [
    "def derivative(x):\n",
    "    return 3**x * np.log(3) + 1 \n",
    "\n",
    "def double_derivative(x):\n",
    "    return 3 ** x * np.log(3) ** 2\n",
    "\n",
    "a,b = -2.6, -1.8\n",
    "e = 10**(-11)\n",
    "\n",
    "print('f({}) = {} < 0'.format(a, function(a)))\n",
    "print('f({}) = {} > 0'.format(b, function(b)))\n",
    "\n",
    "x0 = b\n",
    "print('x0 = ', x0)\n",
    "\n",
    "values = []\n",
    "keys = []\n",
    "k = 2\n",
    "x1 = x0 - function(x0) / derivative(x0)\n",
    "x2 = x1 - function(x1) / derivative(x1)\n",
    "while np.abs(x2 - x1) > e :\n",
    "    x1 = x2\n",
    "    x2 = x2 - function(x2) / derivative(x2)\n",
    "    if k < 5 or k % 5 == 0 :\n",
    "        keys.append('$x_{{{}}} = $'.format(k))\n",
    "        values.append(str(x1))\n",
    "    k += 1\n",
    "keys.append('$x_{{{}}} \\thickapprox $'.format(k))\n",
    "values.append(str(x1))\n",
    "\n",
    "print('Количество итераций:   {}\\nКорень:   {}'.format(k, x2))\n",
    "df = pd.DataFrame(index=keys, data=values)\n",
    "df"
   ]
  },
  {
   "cell_type": "markdown",
   "metadata": {},
   "source": [
    "### Метод простых итераций:\n",
    "$f(x) = 0$\n",
    "\n",
    "$x=φ(x)$\n",
    "\n",
    "$φ(x)=x+cf(x),\\;\\;    f'(x)<1,\\;\\;   с - константа$\n",
    "\n",
    "$x_0$ – начальное итерационное приближение\n",
    "\n",
    "$x_k=φ(x_{k-1})$\n",
    "#### Теорема (сходимость метода простых итераций)\n",
    "Пусть $x_0$ – начальное итерационное приближение, которое выбирается так, что:\n",
    "- $φ(x) \\in C^{(1)}[a,b], \\;\\;S_0=[a,b]=\\{x | |x-x_0|≤δ\\} $\n",
    "- $x^*=φ(x^*)∈[a,b]!$\n",
    "- $q=|φ'(x)| <1$\n",
    "- $x_1-x_0=φ(x_0)-x_0≤δ(1-q)$\n",
    "\n",
    "тогда последовательность сходится, $x_k= φ(x_k)∈[a,b] \\;\\;$ и $\\;\\; x_k-x^*≤δq^k$\n",
    "\n",
    "**Следствие**: $k(ε)=\\left[\\begin{array}{ccc}\\frac{ln⁡(ε/δ)}{ln⁡(q)}\\end{array}\\right] +1$\n",
    "\n",
    "#### Доказательство сходимости МПИ\n",
    "$φ(x)= x - 0.1 f(x) = x + -0.1((x-2)^2 2^x - 1)$\n",
    "\n",
    "$φ'(x)= 1 - 0.1 f'(x) = 1 - 0.1 ((2x-2) 2^x+(x-2)^2 2^x ln 2)$\n",
    "- $φ(x) \\in C^{(1)}[2.3, 2.5], \\;\\;S_0=[2.3, 2.5]=\\{x | |x-2.4|≤δ\\},\\;\\;δ=0.1 $\n",
    "- $x^*=φ(x^*)∈[2.3, 2.5]!\\;\\;$(доказано ранее)\n",
    "- $q=max|φ'(x)| <1, \\;\\;q=|φ'(2.5)|\\thickapprox 0.7950820891945689$\n",
    "- $|x_1-x_0|=|φ(x_0)-x_0|=|φ(2.4)-2.4|\\thickapprox 0.015551493710534992 ≤ δ(1-q)\\thickapprox 0.020491791080543127$\n",
    "\n",
    "Следовательно МПИ сходится\n",
    "\n",
    "$q > 0.5,\\;$ поэтому условие окончания итераций:$\\;\\;q /(1-q)|x_{k}-x_{k-1}|<ε$"
   ]
  },
  {
   "cell_type": "code",
   "execution_count": 39,
   "metadata": {},
   "outputs": [],
   "source": [
    "c = -1.05\n",
    "def fi_function(x):\n",
    "    return x + c * function(x)\n",
    "def fi_derivative(x):\n",
    "    return 1 + c * derivative(x)"
   ]
  },
  {
   "cell_type": "code",
   "execution_count": 41,
   "metadata": {},
   "outputs": [
    {
     "data": {
      "text/plain": [
       "[<matplotlib.lines.Line2D at 0x29cbf18ac88>]"
      ]
     },
     "execution_count": 41,
     "metadata": {},
     "output_type": "execute_result"
    },
    {
     "data": {
      "image/png": "[encoded data removed]",
      "text/plain": [
       "<Figure size 432x288 with 1 Axes>"
      ]
     },
     "metadata": {
      "needs_background": "light"
     },
     "output_type": "display_data"
    }
   ],
   "source": [
    "x_plt = np.linspace(-2.6, -1.8, 100)\n",
    "y_plt = [fi_derivative(i) for i in x_plt]\n",
    "plt.xlabel(\"x\")\n",
    "plt.ylabel(\"y\") \n",
    "plt.grid()      \n",
    "plt.plot(x_plt, y_plt)"
   ]
  },
  {
   "cell_type": "code",
   "execution_count": 44,
   "metadata": {},
   "outputs": [
    {
     "data": {
      "text/plain": [
       "[<matplotlib.lines.Line2D at 0x29cbf2b8d88>]"
      ]
     },
     "execution_count": 44,
     "metadata": {},
     "output_type": "execute_result"
    },
    {
     "data": {
      "image/png": "[encoded data removed]",
      "text/plain": [
       "<Figure size 432x288 with 1 Axes>"
      ]
     },
     "metadata": {
      "needs_background": "light"
     },
     "output_type": "display_data"
    }
   ],
   "source": [
    "def my_fi_derivative(x, a):\n",
    "    return 1 + a * derivative(x)\n",
    "x_plt = np.linspace(-3.0, 3.0, 100)\n",
    "y_plt = [my_fi_derivative(-3.0, i) for i in x_plt]\n",
    "plt.xlabel(\"x\")\n",
    "plt.ylabel(\"y\") \n",
    "plt.grid()      \n",
    "plt.plot(x_plt, y_plt)"
   ]
  },
  {
   "cell_type": "code",
   "execution_count": 45,
   "metadata": {},
   "outputs": [
    {
     "data": {
      "text/plain": [
       "[<matplotlib.lines.Line2D at 0x29cbf33b948>]"
      ]
     },
     "execution_count": 45,
     "metadata": {},
     "output_type": "execute_result"
    },
    {
     "data": {
      "image/png": "[encoded data removed]",
      "text/plain": [
       "<Figure size 432x288 with 1 Axes>"
      ]
     },
     "metadata": {
      "needs_background": "light"
     },
     "output_type": "display_data"
    }
   ],
   "source": [
    "x_plt = np.linspace(-2.0, 3.0, 100)\n",
    "y_plt = [my_fi_derivative(-3.0, i) for i in x_plt]\n",
    "plt.xlabel(\"x\")\n",
    "plt.ylabel(\"y\") \n",
    "plt.grid()      \n",
    "plt.plot(x_plt, y_plt)"
   ]
  },
  {
   "cell_type": "code",
   "execution_count": 46,
   "metadata": {},
   "outputs": [],
   "source": [
    "values = []\n",
    "keys = []\n",
    "delta = (b - a)/2\n",
    "x1 = (a + b) / 2\n",
    "x2 = fi_function(x1)\n",
    "q = np.abs(fi_derivative(b))\n",
    "k = 1\n",
    "keys.append('$x_{{0}} = $')\n",
    "values.append(str(x1))"
   ]
  },
  {
   "cell_type": "code",
   "execution_count": 47,
   "metadata": {},
   "outputs": [],
   "source": [
    "while np.abs(x2 - x1) * q > e :\n",
    "    x1 = x2\n",
    "    x2 = fi_function(x1)\n",
    "    if k % 5 == 0 or k < 4 :\n",
    "        keys.append('$x_{{{}}} = $'.format(k))\n",
    "        values.append(str(x1))\n",
    "    k += 1\n",
    "keys.append('$x_{{{}}} \\thickapprox $'.format(k))\n",
    "values.append(str(x2))"
   ]
  },
  {
   "cell_type": "code",
   "execution_count": 48,
   "metadata": {},
   "outputs": [
    {
     "name": "stdout",
     "output_type": "stream",
     "text": [
      "delta = 0.4\n",
      "q = 0.2096671205074958\n",
      "Количество итераций:   13\n",
      "Корень:   -2.099595219777201\n",
      "Априорная оценка: 16\n"
     ]
    },
    {
     "data": {
      "text/html": [
       "<div>\n",
       "<style scoped>\n",
       "    .dataframe tbody tr th:only-of-type {\n",
       "        vertical-align: middle;\n",
       "    }\n",
       "\n",
       "    .dataframe tbody tr th {\n",
       "        vertical-align: top;\n",
       "    }\n",
       "\n",
       "    .dataframe thead th {\n",
       "        text-align: right;\n",
       "    }\n",
       "</style>\n",
       "<table border=\"1\" class=\"dataframe\">\n",
       "  <thead>\n",
       "    <tr style=\"text-align: right;\">\n",
       "      <th></th>\n",
       "      <th>0</th>\n",
       "    </tr>\n",
       "  </thead>\n",
       "  <tbody>\n",
       "    <tr>\n",
       "      <th>$x_{{0}} = $</th>\n",
       "      <td>-2.2</td>\n",
       "    </tr>\n",
       "    <tr>\n",
       "      <th>$x_{1} = $</th>\n",
       "      <td>-2.0836531822053606</td>\n",
       "    </tr>\n",
       "    <tr>\n",
       "      <th>$x_{2} = $</th>\n",
       "      <td>-2.1022399931954663</td>\n",
       "    </tr>\n",
       "    <tr>\n",
       "      <th>$x_{3} = $</th>\n",
       "      <td>-2.0991595710853437</td>\n",
       "    </tr>\n",
       "    <tr>\n",
       "      <th>$x_{5} = $</th>\n",
       "      <td>-2.0995833737865817</td>\n",
       "    </tr>\n",
       "    <tr>\n",
       "      <th>$x_{10} = $</th>\n",
       "      <td>-2.0995952212274838</td>\n",
       "    </tr>\n",
       "    <tr>\n",
       "      <th>$x_{13} \\thickapprox $</th>\n",
       "      <td>-2.099595219777201</td>\n",
       "    </tr>\n",
       "  </tbody>\n",
       "</table>\n",
       "</div>"
      ],
      "text/plain": [
       "                                          0\n",
       "$x_{{0}} = $                           -2.2\n",
       "$x_{1} = $              -2.0836531822053606\n",
       "$x_{2} = $              -2.1022399931954663\n",
       "$x_{3} = $              -2.0991595710853437\n",
       "$x_{5} = $              -2.0995833737865817\n",
       "$x_{10} = $             -2.0995952212274838\n",
       "$x_{13} \\thickapprox $   -2.099595219777201"
      ]
     },
     "execution_count": 48,
     "metadata": {},
     "output_type": "execute_result"
    }
   ],
   "source": [
    "df = pd.DataFrame(index=keys, data=values)\n",
    "print('delta =', delta)\n",
    "print('q =', q)\n",
    "print('Количество итераций:   {}\\nКорень:   {}'.format(k, x2))\n",
    "print('Априорная оценка:', int(np.log(e/delta)/np.log(q))+1)\n",
    "df"
   ]
  },
  {
   "cell_type": "code",
   "execution_count": null,
   "metadata": {},
   "outputs": [],
   "source": []
  },
  {
   "cell_type": "code",
   "execution_count": null,
   "metadata": {},
   "outputs": [],
   "source": []
  }
 ],
 "metadata": {
  "kernelspec": {
   "display_name": "Python 3",
   "language": "python",
   "name": "python3"
  },
  "language_info": {
   "codemirror_mode": {
    "name": "ipython",
    "version": 3
   },
   "file_extension": ".py",
   "mimetype": "text/x-python",
   "name": "python",
   "nbconvert_exporter": "python",
   "pygments_lexer": "ipython3",
   "version": "3.7.4"
  }
 },
 "nbformat": 4,
 "nbformat_minor": 4
}
